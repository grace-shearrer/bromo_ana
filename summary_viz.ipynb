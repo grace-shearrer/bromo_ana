{
 "cells": [
  {
   "cell_type": "code",
   "execution_count": 12,
   "id": "949318b7",
   "metadata": {},
   "outputs": [],
   "source": [
    "%matplotlib inline\n",
    "\n",
    "import os\n",
    "import glob\n",
    "import numpy as np\n",
    "from numpy.fft import fft, ifft, fftfreq\n",
    "import pandas as pd\n",
    "import matplotlib.pyplot as plt\n",
    "from matplotlib import gridspec\n",
    "from matplotlib.animation import FuncAnimation\n",
    "import seaborn as sns\n",
    "from nltools.data import Brain_Data, Adjacency\n",
    "from nltools.mask import expand_mask, roi_to_brain\n",
    "from nltools.stats import isc, isfc, isps, fdr, threshold, phase_randomize, circle_shift, _butter_bandpass_filter, _phase_mean_angle, _phase_vector_length\n",
    "from nilearn.plotting import view_img_on_surf, view_img\n",
    "from sklearn.metrics import pairwise_distances\n",
    "from sklearn.utils import check_random_state\n",
    "from scipy.stats import ttest_1samp\n",
    "from scipy.stats import ttest_rel\n",
    "from scipy.signal import hilbert\n",
    "import networkx as nx\n",
    "from IPython.display import HTML\n",
    "\n",
    "import subprocess\n",
    "import pickle\n",
    "from datetime import datetime\n",
    "from time import time\n",
    "import pdb"
   ]
  },
  {
   "cell_type": "code",
   "execution_count": 2,
   "id": "06533b33",
   "metadata": {},
   "outputs": [],
   "source": [
    "def adillyofapickle(basepath,dic, name):\n",
    "    datefmt='%m-%d-%Y_%I-%M-%S'\n",
    "    st = datetime.fromtimestamp(time()).strftime(datefmt)\n",
    "    if os.path.exists(os.path.join(basepath,'tmp')):\n",
    "        print('already have tmp')\n",
    "    else:\n",
    "        os.makedirs(os.path.join(basepath,'tmp'))\n",
    "    pickle.dump(dic, open(os.path.join(basepath,'tmp','%s_%s'%(name,st)), 'wb'), protocol=4)\n"
   ]
  },
  {
   "cell_type": "code",
   "execution_count": 3,
   "id": "30c78ce7",
   "metadata": {},
   "outputs": [],
   "source": [
    "def onetoughjar(p):\n",
    "    list_of_files = glob.glob(p) # * means all if need specific format then *.csv\n",
    "    latest_file = max(list_of_files, key=os.path.getmtime)\n",
    "    with open(latest_file, 'rb') as pickle_file:\n",
    "        try:\n",
    "            while True:\n",
    "                output = pickle.load(pickle_file)\n",
    "        except EOFError:\n",
    "            pass\n",
    "    return(output)"
   ]
  },
  {
   "cell_type": "code",
   "execution_count": 4,
   "id": "36bb3cc0",
   "metadata": {},
   "outputs": [],
   "source": [
    "def get_subject_roi(data_dict, roi_num):\n",
    "    sub_rois = {}\n",
    "    for sub, value in data_dict.items():\n",
    "        sub_rois[sub] = value[ROIS['0'].iloc[10]]\n",
    "    return pd.DataFrame(sub_rois)"
   ]
  },
  {
   "cell_type": "markdown",
   "id": "87a1f3f6",
   "metadata": {},
   "source": [
    "## Re runs\n",
    "For some reason 116 and 117 wouldn't work on renci. Ran locally below"
   ]
  },
  {
   "cell_type": "code",
   "execution_count": 13,
   "id": "a191f48f",
   "metadata": {},
   "outputs": [],
   "source": [
    "tim = onetoughjar(os.path.join(datapath,'time*'))"
   ]
  },
  {
   "cell_type": "code",
   "execution_count": 19,
   "id": "572a07ad",
   "metadata": {
    "scrolled": false
   },
   "outputs": [
    {
     "data": {
      "text/plain": [
       "['Frontal_Pole/label',\n",
       " 'Insular_Cortex/label',\n",
       " 'Superior_Frontal',\n",
       " 'Middle_Frontal',\n",
       " 'Inferior_Frontal',\n",
       " 'Inferior_Frontal_5',\n",
       " 'Precentral_Gyrus/label',\n",
       " 'Temporal_Pole/label',\n",
       " 'Superior_Temporal',\n",
       " 'Superior_Temporal_9',\n",
       " 'Middle_Temporal',\n",
       " 'Middle_Temporal_11',\n",
       " 'Middle_Temporal_12',\n",
       " 'Inferior_Temporal',\n",
       " 'Inferior_Temporal_14',\n",
       " 'Inferior_Temporal_15',\n",
       " 'Postcentral_Gyrus/label',\n",
       " 'Superior_Parietal',\n",
       " 'Supramarginal_Gyrus,',\n",
       " 'Supramarginal_Gyrus,_19',\n",
       " 'Angular_Gyrus/label',\n",
       " 'Lateral_Occipital',\n",
       " 'Lateral_Occipital_22',\n",
       " 'Intracalcarine_Cortex/label',\n",
       " 'Frontal_Medial',\n",
       " 'Juxtapositional_Lobule',\n",
       " 'Subcallosal_Cortex/label',\n",
       " 'Paracingulate_Gyrus/label',\n",
       " 'Cingulate_Gyrus,',\n",
       " 'Cingulate_Gyrus,_29',\n",
       " 'Precuneous_Cortex/label',\n",
       " 'Cuneal_Cortex/label',\n",
       " 'Frontal_Orbital',\n",
       " 'Parahippocampal_Gyrus,',\n",
       " 'Parahippocampal_Gyrus,_34',\n",
       " 'Lingual_Gyrus/label',\n",
       " 'Temporal_Fusiform',\n",
       " 'Temporal_Fusiform_37',\n",
       " 'Temporal_Occipital',\n",
       " 'Occipital_Fusiform',\n",
       " 'Frontal_Operculum',\n",
       " 'Central_Opercular',\n",
       " 'Parietal_Operculum',\n",
       " 'Planum_Polare/label',\n",
       " \"Heschl's_Gyrus\",\n",
       " 'Planum_Temporale/label',\n",
       " 'Supracalcarine_Cortex/label',\n",
       " 'Occipital_Pole/label',\n",
       " 48,\n",
       " 49,\n",
       " 50,\n",
       " 51,\n",
       " 52,\n",
       " 53,\n",
       " 54,\n",
       " 55,\n",
       " 56,\n",
       " 57,\n",
       " 58,\n",
       " 59,\n",
       " 60,\n",
       " 61,\n",
       " 62,\n",
       " 63,\n",
       " 64,\n",
       " 65,\n",
       " 66,\n",
       " 67,\n",
       " 68,\n",
       " 69,\n",
       " 70,\n",
       " 71,\n",
       " 72,\n",
       " 73,\n",
       " 74,\n",
       " 75,\n",
       " 76,\n",
       " 77,\n",
       " 78,\n",
       " 79,\n",
       " 80,\n",
       " 81,\n",
       " 82,\n",
       " 83,\n",
       " 84,\n",
       " 85,\n",
       " 86,\n",
       " 87,\n",
       " 88,\n",
       " 89,\n",
       " 90,\n",
       " 91,\n",
       " 92,\n",
       " 93,\n",
       " 94,\n",
       " 95,\n",
       " 'Left_Cerebral_White',\n",
       " 'Left_Cerebral_Cortex',\n",
       " 'Left_Lateral_Ventricle',\n",
       " 'Left_Thalamus_/label',\n",
       " 'Left_Caudate_/label',\n",
       " 'Left_Putamen_/label',\n",
       " 'Left_Pallidum_/label',\n",
       " 'Brain-Stem_/label_nan',\n",
       " 'Left_Hippocampus_/label',\n",
       " 'Left_Amygdala_/label',\n",
       " 'Left_Accumbens_/label',\n",
       " 'Right_Cerebral_White',\n",
       " 'Right_Cerebral_Cortex',\n",
       " 'Right_Lateral_Ventricle',\n",
       " 'Right_Thalamus_/label',\n",
       " 'Right_Caudate_/label',\n",
       " 'Right_Putamen_/label',\n",
       " 'Right_Pallidum_/label',\n",
       " 'Right_Hippocampus_/label',\n",
       " 'Right_Amygdala_/label']"
      ]
     },
     "execution_count": 19,
     "metadata": {},
     "output_type": "execute_result"
    }
   ],
   "source": [
    "list(tim['BRO']['run-1']['sub-047'].columns)"
   ]
  },
  {
   "cell_type": "code",
   "execution_count": null,
   "id": "79a0956e",
   "metadata": {},
   "outputs": [],
   "source": [
    "# test = get_subject_roi(tim['BRO']['run-1'], 116)"
   ]
  },
  {
   "cell_type": "code",
   "execution_count": null,
   "id": "8dec88dc",
   "metadata": {},
   "outputs": [],
   "source": [
    "# # condition = 'BRO'\n",
    "# # ROI = 117\n",
    "# df = pd.concat([get_subject_roi(tim[condition]['run-1'], ROI), get_subject_roi(tim[condition]['run-2'], ROI)], ignore_index=True)\n",
    "# inp = df.dropna(axis=1)\n",
    "# stats = isc(inp, n_bootstraps=5000, metric='median', method='%s'%('circle_shift'), return_bootstraps = True)\n",
    "# packit = {'%s'%condition:{'%s_ROI'%ROI:{'stats':stats, 'df':inp,'method':'circle_shift'}}}\n",
    "\n",
    "# adillyofapickle(datapath,packit, '%s_%s_%s'%(condition,ROI,'circle_shift'))\n"
   ]
  },
  {
   "cell_type": "code",
   "execution_count": 5,
   "id": "0b4b0bf0",
   "metadata": {},
   "outputs": [],
   "source": [
    "homepath = '/Users/gracer/OneDrive - University of Wyoming/0. Lab/M2AENAD Lab - Documents/RESEARCH/BRO/scripts'\n",
    "datapath = '/Users/gracer/OneDrive - University of Wyoming/0. Lab/M2AENAD Lab - Documents/RESEARCH/BRO/data/BRO_isc/tmp'\n",
    "maskpath = '/Users/gracer/OneDrive - University of Wyoming/0. Lab/M2AENAD Lab - Documents/RESEARCH/BRO/data/atlas'"
   ]
  },
  {
   "cell_type": "code",
   "execution_count": 7,
   "id": "f6ba2bc3",
   "metadata": {},
   "outputs": [],
   "source": [
    "ROIS = pd.read_csv(os.path.join(datapath,'ROIS.csv'))"
   ]
  },
  {
   "cell_type": "code",
   "execution_count": 8,
   "id": "22f76b80",
   "metadata": {},
   "outputs": [],
   "source": [
    "results_circle = {}\n",
    "for x in range(0,118):\n",
    "    PLA = 'PLA_%s_circle*'%x\n",
    "    BRO = 'BRO_%s_circle*'%x\n",
    "    try:\n",
    "        results_circle.update({\n",
    "         x:{'PLA':onetoughjar(os.path.join(datapath,PLA)),\n",
    "            'BRO': onetoughjar(os.path.join(datapath,BRO))}})    \n",
    "    except ValueError:\n",
    "        print(x)\n",
    "\n",
    "                    "
   ]
  },
  {
   "cell_type": "code",
   "execution_count": 9,
   "id": "909adfb3",
   "metadata": {},
   "outputs": [
    {
     "data": {
      "text/plain": [
       "dict_keys([0, 1, 2, 3, 4, 5, 6, 7, 8, 9, 10, 11, 12, 13, 14, 15, 16, 17, 18, 19, 20, 21, 22, 23, 24, 25, 26, 27, 28, 29, 30, 31, 32, 33, 34, 35, 36, 37, 38, 39, 40, 41, 42, 43, 44, 45, 46, 47, 48, 49, 50, 51, 52, 53, 54, 55, 56, 57, 58, 59, 60, 61, 62, 63, 64, 65, 66, 67, 68, 69, 70, 71, 72, 73, 74, 75, 76, 77, 78, 79, 80, 81, 82, 83, 84, 85, 86, 87, 88, 89, 90, 91, 92, 93, 94, 95, 96, 97, 98, 99, 100, 101, 102, 103, 104, 105, 106, 107, 108, 109, 110, 111, 112, 113, 114, 115, 116, 117])"
      ]
     },
     "execution_count": 9,
     "metadata": {},
     "output_type": "execute_result"
    }
   ],
   "source": [
    "results_circle.keys()"
   ]
  },
  {
   "cell_type": "markdown",
   "id": "a4240db6",
   "metadata": {},
   "source": [
    "## make dataframe"
   ]
  },
  {
   "cell_type": "code",
   "execution_count": 10,
   "id": "a635e190",
   "metadata": {},
   "outputs": [],
   "source": [
    "d = {'cond': [], 'ROI': [], 'isc':[], 'p':[], 'ci-':[],'ci+':[]}\n",
    "for ROI, item in results_circle.items():\n",
    "    for cond, data in item.items():\n",
    "        d['ROI'].append(ROI)\n",
    "        d['cond'].append(cond)\n",
    "        d['isc'].append(data[cond]['%s_ROI'%ROI]['stats']['isc'])\n",
    "        d['p'].append(data[cond]['%s_ROI'%ROI]['stats']['p'])\n",
    "        d['ci-'].append(data[cond]['%s_ROI'%ROI]['stats']['ci'][0])\n",
    "        d['ci+'].append(data[cond]['%s_ROI'%ROI]['stats']['ci'][1])\n",
    "df = pd.DataFrame(data=d)"
   ]
  },
  {
   "cell_type": "code",
   "execution_count": 11,
   "id": "714bdc0a",
   "metadata": {},
   "outputs": [],
   "source": [
    "df.to_csv(os.path.join(datapath,'circle.csv'), sep = ',')"
   ]
  },
  {
   "cell_type": "code",
   "execution_count": null,
   "id": "17961b9a",
   "metadata": {},
   "outputs": [],
   "source": [
    "ttest_rel(rvs1, rvs3)"
   ]
  },
  {
   "cell_type": "code",
   "execution_count": null,
   "id": "36971f59",
   "metadata": {},
   "outputs": [],
   "source": []
  },
  {
   "cell_type": "code",
   "execution_count": null,
   "id": "acac730c",
   "metadata": {},
   "outputs": [],
   "source": []
  },
  {
   "cell_type": "code",
   "execution_count": null,
   "id": "3dccb6e7",
   "metadata": {},
   "outputs": [],
   "source": []
  },
  {
   "cell_type": "code",
   "execution_count": null,
   "id": "2da59d6a",
   "metadata": {},
   "outputs": [],
   "source": []
  }
 ],
 "metadata": {
  "kernelspec": {
   "display_name": "Python 3 (ipykernel)",
   "language": "python",
   "name": "python3"
  },
  "language_info": {
   "codemirror_mode": {
    "name": "ipython",
    "version": 3
   },
   "file_extension": ".py",
   "mimetype": "text/x-python",
   "name": "python",
   "nbconvert_exporter": "python",
   "pygments_lexer": "ipython3",
   "version": "3.8.8"
  }
 },
 "nbformat": 4,
 "nbformat_minor": 5
}
