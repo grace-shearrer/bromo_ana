{
 "cells": [
  {
   "cell_type": "code",
   "execution_count": 1,
   "id": "2fb3de6f",
   "metadata": {},
   "outputs": [],
   "source": [
    "import pandas as pd\n",
    "import os\n",
    "import numpy as np\n",
    "import scipy.stats as ss"
   ]
  },
  {
   "cell_type": "code",
   "execution_count": 2,
   "id": "589de0b2",
   "metadata": {},
   "outputs": [],
   "source": [
    "column_names = ['Drug','TaqXdrug']"
   ]
  },
  {
   "cell_type": "code",
   "execution_count": 3,
   "id": "bd36e25c",
   "metadata": {},
   "outputs": [],
   "source": [
    "complete_subs = pd.read_csv('/Users/gracer/Desktop/complete_subs.csv', header = None)"
   ]
  },
  {
   "cell_type": "code",
   "execution_count": 4,
   "id": "5351a1e4",
   "metadata": {},
   "outputs": [],
   "source": [
    "behav = pd.read_csv('/Users/gracer/OneDrive - University of Wyoming/0. Lab/M2AENAD Lab - Documents/RESEARCH/BRO/bro_behav.csv')"
   ]
  },
  {
   "cell_type": "markdown",
   "id": "98159eed",
   "metadata": {},
   "source": [
    "Taq1A (A1/A1 and A1/A2) == 1\n",
    "A2/A2 == -1"
   ]
  },
  {
   "cell_type": "code",
   "execution_count": 5,
   "id": "d76a0cb9",
   "metadata": {},
   "outputs": [],
   "source": [
    "taqs = behav['taqstatus'].replace({'A2/A2': -1, 'A1/A2': 1, 'A1/A1': 1})"
   ]
  },
  {
   "cell_type": "code",
   "execution_count": 6,
   "id": "5c646c45",
   "metadata": {
    "scrolled": true
   },
   "outputs": [],
   "source": [
    "taqs = pd.DataFrame(taqs)\n",
    "taqs.set_index(behav['participantID'], inplace = True)"
   ]
  },
  {
   "cell_type": "code",
   "execution_count": 40,
   "id": "73f54026",
   "metadata": {},
   "outputs": [],
   "source": [
    "subs = list(complete_subs[0])"
   ]
  },
  {
   "cell_type": "code",
   "execution_count": 9,
   "id": "2c2ea7b1",
   "metadata": {},
   "outputs": [],
   "source": [
    "CN = column_names+subs"
   ]
  },
  {
   "cell_type": "code",
   "execution_count": 10,
   "id": "9afd1efc",
   "metadata": {},
   "outputs": [],
   "source": [
    "sub_indx = []\n",
    "for i in subs:\n",
    "    sub_indx.extend([i, i])"
   ]
  },
  {
   "cell_type": "code",
   "execution_count": 11,
   "id": "f50ac1f7",
   "metadata": {},
   "outputs": [],
   "source": [
    "drug = [1,-1]*44"
   ]
  },
  {
   "cell_type": "code",
   "execution_count": 44,
   "id": "2a1c5e19",
   "metadata": {},
   "outputs": [],
   "source": [
    "MAT = pd.DataFrame(0,index = sub_indx, columns = CN)"
   ]
  },
  {
   "cell_type": "code",
   "execution_count": 45,
   "id": "3e598c61",
   "metadata": {},
   "outputs": [],
   "source": [
    "MAT['Drug'] = drug"
   ]
  },
  {
   "cell_type": "markdown",
   "id": "4ecb8112",
   "metadata": {},
   "source": [
    "## Next step\n",
    "- Create the drug column with 1 = BRO, -1 = placebo\n",
    "- Every subject's Taq status A1 = 1 A2 = -1\n",
    "- Get taq by drug column, multiple the Drug column by a Taq column (or lists)\n",
    "## Homework\n",
    "Figure out how to put 1s in each subject's column to identify their data (see BRO analysis excel sheet for an example)"
   ]
  },
  {
   "cell_type": "code",
   "execution_count": 46,
   "id": "7db979b3",
   "metadata": {},
   "outputs": [],
   "source": [
    "for sub in subs:\n",
    "    MAT.loc['%s'%sub, '%s'%sub] = 1"
   ]
  },
  {
   "cell_type": "code",
   "execution_count": 50,
   "id": "88cb4bd3",
   "metadata": {},
   "outputs": [],
   "source": [
    "for sub in subs:\n",
    "    MAT.loc['%s'%sub, 'TaqXdrug'] = taqs.T.loc['taqstatus','%s'%sub]"
   ]
  },
  {
   "cell_type": "code",
   "execution_count": 51,
   "id": "2ace4ca4",
   "metadata": {},
   "outputs": [],
   "source": [
    "combo = MAT['Drug']*MAT['TaqXdrug']"
   ]
  },
  {
   "cell_type": "code",
   "execution_count": 52,
   "id": "6a5e2b00",
   "metadata": {},
   "outputs": [],
   "source": [
    "MAT['TaqXdrug'] = combo.values"
   ]
  },
  {
   "cell_type": "code",
   "execution_count": 53,
   "id": "1eb15aca",
   "metadata": {},
   "outputs": [],
   "source": [
    "MAT = MAT[MAT['TaqXdrug'].notna()]"
   ]
  },
  {
   "cell_type": "code",
   "execution_count": 55,
   "id": "9a8bff26",
   "metadata": {
    "scrolled": true
   },
   "outputs": [
    {
     "data": {
      "text/plain": [
       "['sub-003',\n",
       " 'sub-004',\n",
       " 'sub-007',\n",
       " 'sub-008',\n",
       " 'sub-009',\n",
       " 'sub-010',\n",
       " 'sub-011',\n",
       " 'sub-012',\n",
       " 'sub-013',\n",
       " 'sub-014',\n",
       " 'sub-015',\n",
       " 'sub-016',\n",
       " 'sub-017',\n",
       " 'sub-018',\n",
       " 'sub-019',\n",
       " 'sub-021',\n",
       " 'sub-022',\n",
       " 'sub-023',\n",
       " 'sub-025',\n",
       " 'sub-026',\n",
       " 'sub-028',\n",
       " 'sub-029',\n",
       " 'sub-030',\n",
       " 'sub-032',\n",
       " 'sub-033',\n",
       " 'sub-034',\n",
       " 'sub-035',\n",
       " 'sub-036',\n",
       " 'sub-038',\n",
       " 'sub-039',\n",
       " 'sub-040',\n",
       " 'sub-041',\n",
       " 'sub-043',\n",
       " 'sub-044',\n",
       " 'sub-046',\n",
       " 'sub-047',\n",
       " 'sub-048',\n",
       " 'sub-049',\n",
       " 'sub-050',\n",
       " 'sub-051',\n",
       " 'sub-052',\n",
       " 'sub-053',\n",
       " 'sub-054',\n",
       " 'sub-056']"
      ]
     },
     "execution_count": 55,
     "metadata": {},
     "output_type": "execute_result"
    }
   ],
   "source": [
    "subs"
   ]
  },
  {
   "cell_type": "code",
   "execution_count": 62,
   "id": "af3962e8",
   "metadata": {
    "scrolled": true
   },
   "outputs": [],
   "source": [
    "for sub in subs:\n",
    "    MAT.loc['%s'%sub, '%s'%sub] = 1"
   ]
  },
  {
   "cell_type": "code",
   "execution_count": null,
   "id": "0a948f92",
   "metadata": {},
   "outputs": [],
   "source": [
    "MAT.to_csv('/Users/gracer/OneDrive - University of Wyoming/0. Lab/M2AENAD Lab - Documents/RESEARCH/BRO/design.csv')"
   ]
  },
  {
   "cell_type": "markdown",
   "id": "ff183fbd",
   "metadata": {},
   "source": [
    "# Correlation to determine covariates"
   ]
  },
  {
   "cell_type": "code",
   "execution_count": null,
   "id": "d8880e60",
   "metadata": {},
   "outputs": [],
   "source": [
    "complete_b = behav[behav['participantID'].isin(subs)]"
   ]
  },
  {
   "cell_type": "code",
   "execution_count": null,
   "id": "b796038b",
   "metadata": {},
   "outputs": [],
   "source": [
    "correlations = complete_b[['hungry1_1_v1', 'full1_1_v1', 'thirsty1_1_v1',\n",
    "       'nauseous1_1_v1', 'hungry2_1_v1', 'full2_1_v1', 'thirsty2_1_v1',\n",
    "       'nauseous2_1_v1', 'hungry3_1_v1', 'full3_1_v1', 'thirsty3_1_v1',\n",
    "       'nauseous3_1_v1', 'hungry4_1_v1', 'full4_1_v1', 'thirsty4_1_v1',\n",
    "       'nauseous4_1_v1', 'hungry5_1_v1', 'full5_1_v1', 'thirsty5_1_v1',\n",
    "       'nauseous5_1_v1', 'hungry1_1_v2', 'full1_1_v2', 'thirsty1_1_v2',\n",
    "       'nauseous1_1_v2', 'hungry2_1_v2', 'full2_1_v2', 'thirsty2_1_v2',\n",
    "       'nauseous2_1_v2', 'hungry3_1_v2', 'full3_1_v2', 'thirsty3_1_v2',\n",
    "       'nauseous3_1_v2', 'hungry4_1_v2', 'full4_1_v2', 'thirsty4_1_v2',\n",
    "       'nauseous4_1_v2', 'hungry5_1_v2', 'full5_1_v2', 'thirsty5_1_v2',\n",
    "       'nauseous5_1_v2', 'Finished_v1', 'logo1pleasant_1_v1',\n",
    "       'logo2pleasant_1_v1', 'milkshakepleasant_1_v1', 'milkshakedesire_1_v1',\n",
    "       'milkshakesweet_1_v1', 'milkshakeintense_1_v1', 'mmpleasant_1_v1',\n",
    "       'mmdesire_1_v1', 'mmsweet_1_v1', 'mmintense_1_v1', 'skittpleasant_1_v1',\n",
    "       'skittdesire_1_v1', 'skittsweet_1_v1', 'skittintense_1_v1',\n",
    "       'poppleasant_1_v1', 'popdesire_1_v1', 'popsavory_1_v1',\n",
    "       'popintense_1_v1', 'dorpleasant_1_v1', 'dordesire_1_v1',\n",
    "       'dorsavory_1_v1', 'dorintense_1_v1', 'Finished_v2',\n",
    "       'logo1pleasant_1_v2', 'logo2pleasant_1_v2', 'milkshakepleasant_1_v2',\n",
    "       'milkshakedesire_1_v2', 'milkshakesweet_1_v2', 'milkshakeintense_1_v2']].corr()"
   ]
  },
  {
   "cell_type": "code",
   "execution_count": null,
   "id": "8acfe4f3",
   "metadata": {},
   "outputs": [],
   "source": [
    "visit = ['v1','v2']\n",
    "params = ['hungry','full','nauseous','logo1','logo2','milkshakepleasant','milkshakedesire']"
   ]
  },
  {
   "cell_type": "code",
   "execution_count": null,
   "id": "69c79beb",
   "metadata": {
    "scrolled": true
   },
   "outputs": [],
   "source": [
    "dicti = {}\n",
    "for v in visit:\n",
    "    df = complete_b.filter(regex='%s'%v)\n",
    "    for p in params:\n",
    "        DF = df.filter(regex='%s'%p)\n",
    "        dicti['%s_%s'%(v,p)] = DF.mean(axis=1)"
   ]
  },
  {
   "cell_type": "code",
   "execution_count": null,
   "id": "121aff32",
   "metadata": {},
   "outputs": [],
   "source": [
    "mean_df = pd.DataFrame.from_dict(dicti)"
   ]
  },
  {
   "cell_type": "code",
   "execution_count": null,
   "id": "7876620e",
   "metadata": {},
   "outputs": [],
   "source": [
    "mean_df.corr().filter(regex = 'v1') "
   ]
  },
  {
   "cell_type": "markdown",
   "id": "ce52d5c7",
   "metadata": {},
   "source": [
    "# Visit 1 correlations above 0.5\n",
    "* hunger and fullness\n",
    "* milkshake pleasantness and desire"
   ]
  },
  {
   "cell_type": "markdown",
   "id": "8b0526c8",
   "metadata": {},
   "source": [
    "# Visit 2 correlations above 0.5\n",
    "* milkshake pleasantness and logo1\n",
    "* logo1 and logo2\n",
    "* milkshake pleasantness and desire"
   ]
  },
  {
   "cell_type": "code",
   "execution_count": null,
   "id": "5cf41106",
   "metadata": {},
   "outputs": [],
   "source": []
  }
 ],
 "metadata": {
  "kernelspec": {
   "display_name": "Python 3 (ipykernel)",
   "language": "python",
   "name": "python3"
  },
  "language_info": {
   "codemirror_mode": {
    "name": "ipython",
    "version": 3
   },
   "file_extension": ".py",
   "mimetype": "text/x-python",
   "name": "python",
   "nbconvert_exporter": "python",
   "pygments_lexer": "ipython3",
   "version": "3.8.8"
  }
 },
 "nbformat": 4,
 "nbformat_minor": 5
}
