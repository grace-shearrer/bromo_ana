{
 "cells": [
  {
   "cell_type": "markdown",
   "id": "409d5d1b",
   "metadata": {},
   "source": [
    "# Intersubject correlation analysis"
   ]
  },
  {
   "cell_type": "code",
   "execution_count": 2,
   "id": "1125390e",
   "metadata": {},
   "outputs": [],
   "source": [
    "%matplotlib inline\n",
    "\n",
    "import os\n",
    "import glob\n",
    "import numpy as np\n",
    "from numpy.fft import fft, ifft, fftfreq\n",
    "import pandas as pd\n",
    "import matplotlib.pyplot as plt\n",
    "from matplotlib import gridspec\n",
    "from matplotlib.animation import FuncAnimation\n",
    "import seaborn as sns\n",
    "from nltools.data import Brain_Data, Adjacency\n",
    "from nltools.mask import expand_mask, roi_to_brain\n",
    "from nltools.stats import isc, isfc, isps, fdr, threshold, phase_randomize, circle_shift, _butter_bandpass_filter, _phase_mean_angle, _phase_vector_length\n",
    "from nilearn.plotting import view_img_on_surf, view_img\n",
    "from sklearn.metrics import pairwise_distances\n",
    "from sklearn.utils import check_random_state\n",
    "from scipy.stats import ttest_1samp\n",
    "from scipy.signal import hilbert\n",
    "import networkx as nx\n",
    "from IPython.display import HTML\n",
    "#from templateflow.api import get\n",
    "import subprocess\n",
    "import pickle\n",
    "from datetime import datetime\n",
    "from time import time\n",
    "import pdb"
   ]
  },
  {
   "cell_type": "markdown",
   "id": "f850a577",
   "metadata": {},
   "source": [
    "## Getting parcellations \n",
    "\n",
    "The atlas namings correspond to the original FSL’s acronyms for them \n",
    "\n",
    "* HOCPAL=Harvard-Oxford Cortical Probabilistic Atlas Lateralized \n",
    "- 48 regions for both sides total of 96\n",
    "* HOSPA=Harvard-Oxford Subcortical Probabilistic Atlas\n",
    "- 21 regions\n"
   ]
  },
  {
   "cell_type": "code",
   "execution_count": 2,
   "id": "224a9413",
   "metadata": {},
   "outputs": [],
   "source": [
    "def adillyofapickle(basepath,dic, name):\n",
    "    datefmt='%m-%d-%Y_%I-%M-%S'\n",
    "    st = datetime.fromtimestamp(time()).strftime(datefmt)\n",
    "    if os.path.exists(os.path.join(basepath,'tmp')):\n",
    "        print('already have tmp')\n",
    "    else:\n",
    "        os.makedirs(os.path.join(basepath,'tmp'))\n",
    "    pickle.dump(dic, open(os.path.join(basepath,'tmp','%s_%s'%(name,st)), 'wb'), protocol=4)\n"
   ]
  },
  {
   "cell_type": "code",
   "execution_count": 3,
   "id": "838d3c29",
   "metadata": {},
   "outputs": [],
   "source": [
    "def onetoughjar(p):\n",
    "    list_of_files = glob.glob(p) # * means all if need specific format then *.csv\n",
    "    latest_file = max(list_of_files, key=os.path.getmtime)\n",
    "    with open(latest_file, 'rb') as pickle_file:\n",
    "        try:\n",
    "            while True:\n",
    "                output = pickle.load(pickle_file)\n",
    "        except EOFError:\n",
    "            pass\n",
    "    return(output)"
   ]
  },
  {
   "cell_type": "code",
   "execution_count": 67,
   "id": "03c87a7c",
   "metadata": {},
   "outputs": [],
   "source": [
    "datapath = '/projects/niblab/experiments/bromocriptine/data/fmriprep/'\n",
    "altaspath = '/projects/niblab/parcellations/Harvard_Oxford'\n",
    "outpath = '/projects/niblab/data/BRO/timeseries'"
   ]
  },
  {
   "cell_type": "code",
   "execution_count": null,
   "id": "2f2f947f",
   "metadata": {},
   "outputs": [],
   "source": [
    "subcort_dict = onetoughjar(os.path.join(altaspath,'tmp','subcortical*'))"
   ]
  },
  {
   "cell_type": "code",
   "execution_count": null,
   "id": "bc17fafc",
   "metadata": {},
   "outputs": [],
   "source": [
    "cort_dict = onetoughjar(os.path.join(altaspath,'tmp','cortical*'))"
   ]
  },
  {
   "cell_type": "code",
   "execution_count": null,
   "id": "44325a92",
   "metadata": {},
   "outputs": [],
   "source": [
    "subcort_dict.keys()"
   ]
  },
  {
   "cell_type": "code",
   "execution_count": null,
   "id": "95e24a5a",
   "metadata": {},
   "outputs": [],
   "source": []
  },
  {
   "cell_type": "markdown",
   "id": "e81d4a35",
   "metadata": {},
   "source": [
    "## Sample mask into functional space\n",
    "I used fslmeants to get the timeseries per parcel (cortical and subcortical) the masks were first sampled into subject space from 1mm to 3mm."
   ]
  },
  {
   "cell_type": "markdown",
   "id": "428de2e1",
   "metadata": {},
   "source": [
    "## Making a dictonary with the labels for the ROIS"
   ]
  },
  {
   "cell_type": "code",
   "execution_count": null,
   "id": "10fd3083",
   "metadata": {},
   "outputs": [],
   "source": [
    "#cort_labels = pd.read_csv(os.path.join(outpath,'atlas.csv'), header = None)"
   ]
  },
  {
   "cell_type": "code",
   "execution_count": null,
   "id": "d92a16f3",
   "metadata": {
    "scrolled": true
   },
   "outputs": [],
   "source": [
    "#cort_dict = {}\n",
    "\n",
    "# for index, row in cort_labels.iterrows():\n",
    "#     ROW = row[0].split(' ')\n",
    "#     name1 = ROW[5]\n",
    "#     name2 = ROW[6]\n",
    "#     if '%s_%s'%(name1, name2) in cort_dict.values():\n",
    "#         cort_dict.update({int(ROW[1].split('=')[-1]):'%s_%s_%s'%(name1, name2, index)})\n",
    "#     else:\n",
    "#         cort_dict.update({int(ROW[1].split('=')[-1]):'%s_%s'%(name1, name2)})"
   ]
  },
  {
   "cell_type": "code",
   "execution_count": null,
   "id": "a788efe7",
   "metadata": {},
   "outputs": [],
   "source": [
    "#adillyofapickle(altaspath,cort_dict, 'cortical')"
   ]
  },
  {
   "cell_type": "code",
   "execution_count": null,
   "id": "4e2b2b1d",
   "metadata": {},
   "outputs": [],
   "source": [
    "#subcort_labels = pd.read_csv(os.path.join(outpath,'atlas_sub.csv'), header = None, delimiter = ' ')"
   ]
  },
  {
   "cell_type": "code",
   "execution_count": null,
   "id": "c72e80bd",
   "metadata": {},
   "outputs": [],
   "source": [
    "# subcort_dict = {}\n",
    "# for index, row in subcort_labels.iterrows():\n",
    "#     name1 = row[15]\n",
    "#     name2 = row[16]\n",
    "#     name3 = row[17]\n",
    "#     subcort_dict.update({int(row[3]):'%s_%s_%s'%(name1, name2, name3)})"
   ]
  },
  {
   "cell_type": "code",
   "execution_count": null,
   "id": "7112461d",
   "metadata": {},
   "outputs": [],
   "source": [
    "#adillyofapickle(altaspath,subcort_dict, 'subcortical')"
   ]
  },
  {
   "cell_type": "code",
   "execution_count": null,
   "id": "72a6150e",
   "metadata": {},
   "outputs": [],
   "source": []
  },
  {
   "cell_type": "code",
   "execution_count": null,
   "id": "e2d155ca",
   "metadata": {
    "scrolled": true
   },
   "outputs": [],
   "source": [
    "# data_dict = {}\n",
    "# for x in glob.glob(os.path.join(outpath,'cortical_masks','*.txt')):\n",
    "#     sub = x.split('/')[-1].split('_')[0]\n",
    "#     ses = x.split('/')[-1].split('_')[1]\n",
    "#     run = x.split('/')[-1].split('_')[2].split('.')[0]\n",
    "#     print('%s %s %s'%(sub, ses, run))\n",
    "#     df = pd.read_csv(x, header = None, delimiter = '  ')\n",
    "#     df.rename(columns=cort_dict, inplace = True)\n",
    "#     df2 = pd.read_csv(os.path.join(outpath,'subcortical_masks','%s_%s_%s.txt'%(sub,ses,run)), header = None, delimiter = '  ')\n",
    "#     df2.rename(columns=subcort_dict, inplace = True)\n",
    "#     DF = df.join(df2)\n",
    "#     data_dict.update({'%s_%s_%s'%(sub,ses,run):DF})\n",
    "    \n",
    "    \n",
    "    "
   ]
  },
  {
   "cell_type": "code",
   "execution_count": null,
   "id": "608159ee",
   "metadata": {},
   "outputs": [],
   "source": [
    "pd.concat([data_dict['sub-007_ses-1_run-1'], data_dict['sub-007_ses-1_run-2']], ignore_index=True)"
   ]
  },
  {
   "cell_type": "code",
   "execution_count": null,
   "id": "0b6b2f16",
   "metadata": {
    "scrolled": true
   },
   "outputs": [],
   "source": [
    "data_dict['sub-007_ses-1_run-1']"
   ]
  },
  {
   "cell_type": "code",
   "execution_count": null,
   "id": "b173f5a6",
   "metadata": {},
   "outputs": [],
   "source": [
    "# adillyofapickle(outpath,data_dict, 'timeseries_parc')"
   ]
  },
  {
   "cell_type": "code",
   "execution_count": 5,
   "id": "3513128a",
   "metadata": {},
   "outputs": [],
   "source": [
    "data_dict = onetoughjar(os.path.join(outpath,'tmp','timeseries*'))"
   ]
  },
  {
   "cell_type": "code",
   "execution_count": null,
   "id": "b0b01bfa",
   "metadata": {},
   "outputs": [],
   "source": [
    "#data_dict['BRO']['run-1'].keys()"
   ]
  },
  {
   "cell_type": "code",
   "execution_count": null,
   "id": "44749dfc",
   "metadata": {},
   "outputs": [],
   "source": [
    "# noNan_dict = {'BRO':{'run-1':{},'run-2':{}},'PLA':{'run-1':{},'run-2':{}}}\n",
    "\n",
    "# for cond, data in data_dict.items():\n",
    "#     for run, dat in data.items():\n",
    "#         for sub, df in dat.items():\n",
    "#             noNan_dict[cond][run].update({sub:df.dropna(axis=1)})\n",
    "        "
   ]
  },
  {
   "cell_type": "code",
   "execution_count": null,
   "id": "b2f533c2",
   "metadata": {},
   "outputs": [],
   "source": [
    "# ROIS = pd.read_csv(os.path.join(altaspath,'tmp','ROIS.csv'))"
   ]
  },
  {
   "cell_type": "code",
   "execution_count": 6,
   "id": "59764753",
   "metadata": {},
   "outputs": [],
   "source": [
    "path2beh = '/projects/niblab/data/BRO/behav/bro_behav.csv'\n",
    "behav = pd.read_csv(path2beh)"
   ]
  },
  {
   "cell_type": "code",
   "execution_count": 7,
   "id": "c9f26e36",
   "metadata": {},
   "outputs": [],
   "source": [
    "behav2 = behav.set_index('participantID')"
   ]
  },
  {
   "cell_type": "code",
   "execution_count": null,
   "id": "f911178d",
   "metadata": {},
   "outputs": [],
   "source": [
    "# reorg_dict = {'BRO':{'run-1':{},'run-2':{}}, \n",
    "#               'PLA':{'run-1':{},'run-2':{}}\n",
    "#              }\n",
    "# for key, value in data_dict.items():\n",
    "#     sub = key.split('_')[0]\n",
    "#     ses = key.split('_')[1]\n",
    "#     run = key.split('_')[2]\n",
    "#     if behav2.loc[sub,'drug_v1'] == 'placebo':\n",
    "#         if run == 'run-1':\n",
    "#             reorg_dict['PLA']['run-1'].update({sub:value})\n",
    "#         else:\n",
    "#             reorg_dict['PLA']['run-2'].update({sub:value})\n",
    "#     else:\n",
    "#         if run == 'run-1':\n",
    "#             reorg_dict['BRO']['run-1'].update({sub:value})\n",
    "#         else:\n",
    "#             reorg_dict['BRO']['run-2'].update({sub:value})"
   ]
  },
  {
   "cell_type": "code",
   "execution_count": 8,
   "id": "9c41e4b4",
   "metadata": {},
   "outputs": [],
   "source": [
    "def get_subject_roi(data_dict, roi_num):\n",
    "    sub_rois = {}\n",
    "    for sub, value in data_dict.items():\n",
    "        sub_rois[sub] = value[ROIS['0'].iloc[10]]\n",
    "    return pd.DataFrame(sub_rois)\n"
   ]
  },
  {
   "cell_type": "code",
   "execution_count": 108,
   "id": "bfb70aba",
   "metadata": {
    "scrolled": true
   },
   "outputs": [],
   "source": [
    "results_boot = {}\n",
    "for x in range(0,96):\n",
    "#     print(x)\n",
    "    PLA = 'PLA_%s_bootstrap*'%x\n",
    "    BRO = 'BRO_%s_bootstrap*'%x\n",
    "    try:\n",
    "        results_boot.update({\n",
    "             x:{'PLA':onetoughjar(os.path.join('/projects/niblab/data/BRO/timeseries/tmp',PLA)),\n",
    "                'BRO': onetoughjar(os.path.join('/projects/niblab/data/BRO/timeseries/tmp',BRO))}})\n",
    "    except ValueError:\n",
    "        print(x)\n"
   ]
  },
  {
   "cell_type": "code",
   "execution_count": 130,
   "id": "78d29da3",
   "metadata": {},
   "outputs": [],
   "source": [
    "results_circle = {}\n",
    "for x in range(0,96):\n",
    "    PLA = 'PLA_%s_circle*'%x\n",
    "    BRO = 'BRO_%s_circle*'%x\n",
    "    try:\n",
    "        results_circle.update({\n",
    "         x:{'PLA':onetoughjar(os.path.join('/projects/niblab/data/BRO/timeseries/tmp',PLA)),\n",
    "            'BRO': onetoughjar(os.path.join('/projects/niblab/data/BRO/timeseries/tmp',BRO))}})    \n",
    "    except ValueError:\n",
    "        print(x)\n",
    "\n",
    "                              "
   ]
  },
  {
   "cell_type": "code",
   "execution_count": 131,
   "id": "7efeb6b2",
   "metadata": {},
   "outputs": [
    {
     "data": {
      "text/plain": [
       "dict_keys([0, 1, 2, 3, 4, 5, 6, 7, 8, 9, 10, 11, 12, 13, 14, 15, 16, 17, 18, 19, 20, 21, 22, 23, 24, 25, 26, 27, 28, 29, 30, 31, 32, 33, 34, 35, 36, 37, 38, 39, 40, 41, 42, 43, 44, 45, 46, 47, 48, 49, 50, 51, 52, 53, 54, 55, 56, 57, 58, 59, 60, 61, 62, 63, 64, 65, 66, 67, 68, 69, 70, 71, 72, 73, 74, 75, 76, 77, 78, 79, 80, 81, 82, 83, 84, 85, 86, 87, 88, 89, 90, 91, 92, 93, 94, 95])"
      ]
     },
     "execution_count": 131,
     "metadata": {},
     "output_type": "execute_result"
    }
   ],
   "source": [
    "results_circle.keys()"
   ]
  },
  {
   "cell_type": "code",
   "execution_count": 69,
   "id": "fcee6c5c",
   "metadata": {},
   "outputs": [
    {
     "data": {
      "image/png": "[encoded data removed]",
      "text/plain": [
       "<Figure size 1080x144 with 11 Axes>"
      ]
     },
     "metadata": {
      "needs_background": "light"
     },
     "output_type": "display_data"
    }
   ],
   "source": [
    "mask = Brain_Data(os.path.join(altaspath, 'tpl-MNI152NLin2009cAsym_res-01_atlas-HOCPAL_desc-th0_dseg.nii.gz'))\n",
    "mask_x = expand_mask(mask)\n",
    "\n",
    "mask.plot()"
   ]
  },
  {
   "cell_type": "code",
   "execution_count": 138,
   "id": "9446956d",
   "metadata": {},
   "outputs": [],
   "source": [
    "BRO_isc_r, BRO_isc_p = {}, {}\n",
    "PLA_isc_r, PLA_isc_p = {}, {}"
   ]
  },
  {
   "cell_type": "code",
   "execution_count": 139,
   "id": "e9c19d33",
   "metadata": {},
   "outputs": [],
   "source": [
    "BROc_isc_r, BROc_isc_p = {}, {}\n",
    "PLAc_isc_r, PLAc_isc_p = {}, {}"
   ]
  },
  {
   "cell_type": "code",
   "execution_count": 140,
   "id": "d82f3065",
   "metadata": {},
   "outputs": [],
   "source": [
    "for roi, data in results_circle.items():\n",
    "#     print(roi)\n",
    "    BROc_isc_r[int(roi)] = data['BRO']['BRO']['%s_ROI'%roi]['stats']['isc']\n",
    "    BROc_isc_p[int(roi)] = data['BRO']['BRO']['%s_ROI'%roi]['stats']['p']\n"
   ]
  },
  {
   "cell_type": "code",
   "execution_count": 141,
   "id": "aadac124",
   "metadata": {
    "scrolled": true
   },
   "outputs": [],
   "source": [
    "for roi, data in results_boot.items():\n",
    "#     print(roi)\n",
    "    BRO_isc_r[int(roi)] = data['BRO']['BRO']['%s_ROI'%roi]['stats']['isc']\n",
    "    BRO_isc_p[int(roi)] = data['BRO']['BRO']['%s_ROI'%roi]['stats']['p']\n",
    "    \n",
    "    \n",
    "    \n",
    "    "
   ]
  },
  {
   "cell_type": "code",
   "execution_count": 142,
   "id": "1a1afef7",
   "metadata": {},
   "outputs": [],
   "source": [
    "for roi, data in results_circle.items():\n",
    "#     print(roi)\n",
    "    PLAc_isc_r[int(roi)] = data['PLA']['PLA']['%s_ROI'%roi]['stats']['isc']\n",
    "    PLAc_isc_p[int(roi)] = data['PLA']['PLA']['%s_ROI'%roi]['stats']['p']\n"
   ]
  },
  {
   "cell_type": "code",
   "execution_count": 143,
   "id": "453c623a",
   "metadata": {},
   "outputs": [],
   "source": [
    "for roi, data in results_boot.items():\n",
    "#     print(roi)\n",
    "    PLA_isc_r[int(roi)] = data['PLA']['PLA']['%s_ROI'%roi]['stats']['isc']\n",
    "    PLA_isc_p[int(roi)] = data['PLA']['PLA']['%s_ROI'%roi]['stats']['p']\n"
   ]
  },
  {
   "cell_type": "code",
   "execution_count": 149,
   "id": "65b75911",
   "metadata": {},
   "outputs": [],
   "source": [
    "bro_isc_r_brain, bro_isc_p_brain = roi_to_brain(pd.Series(BRO_isc_r), mask_x), roi_to_brain(pd.Series(BRO_isc_p), mask_x)\n",
    "broc_isc_r_brain, broc_isc_p_brain = roi_to_brain(pd.Series(BROc_isc_r), mask_x), roi_to_brain(pd.Series(BROc_isc_p), mask_x)\n",
    "\n",
    "\n",
    "pla_isc_r_brain, pla_isc_p_brain = roi_to_brain(pd.Series(PLA_isc_r), mask_x), roi_to_brain(pd.Series(PLA_isc_p), mask_x)\n",
    "plac_isc_r_brain, plac_isc_p_brain = roi_to_brain(pd.Series(PLAc_isc_r), mask_x), roi_to_brain(pd.Series(PLAc_isc_p), mask_x)\n",
    "\n",
    "\n",
    "\n"
   ]
  }
 ],
 "metadata": {
  "kernelspec": {
   "display_name": "Python 3 (ipykernel)",
   "language": "python",
   "name": "python3"
  },
  "language_info": {
   "codemirror_mode": {
    "name": "ipython",
    "version": 3
   },
   "file_extension": ".py",
   "mimetype": "text/x-python",
   "name": "python",
   "nbconvert_exporter": "python",
   "pygments_lexer": "ipython3",
   "version": "3.8.8"
  }
 },
 "nbformat": 4,
 "nbformat_minor": 5
}
