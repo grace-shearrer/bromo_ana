{
 "cells": [
  {
   "cell_type": "markdown",
   "id": "409d5d1b",
   "metadata": {},
   "source": [
    "# Intersubject correlation analysis"
   ]
  },
  {
   "cell_type": "code",
   "execution_count": 1,
   "id": "1125390e",
   "metadata": {},
   "outputs": [],
   "source": [
    "%matplotlib inline\n",
    "\n",
    "import os\n",
    "import glob\n",
    "import numpy as np\n",
    "from numpy.fft import fft, ifft, fftfreq\n",
    "import pandas as pd\n",
    "import matplotlib.pyplot as plt\n",
    "from matplotlib import gridspec\n",
    "from matplotlib.animation import FuncAnimation\n",
    "import seaborn as sns\n",
    "from nltools.data import Brain_Data, Adjacency\n",
    "from nltools.mask import expand_mask, roi_to_brain\n",
    "from nltools.stats import isc, isfc, isps, fdr, threshold, phase_randomize, circle_shift, _butter_bandpass_filter, _phase_mean_angle, _phase_vector_length\n",
    "from nilearn.plotting import view_img_on_surf, view_img\n",
    "from sklearn.metrics import pairwise_distances\n",
    "from sklearn.utils import check_random_state\n",
    "from scipy.stats import ttest_1samp\n",
    "from scipy.signal import hilbert\n",
    "import networkx as nx\n",
    "from IPython.display import HTML\n",
    "from templateflow.api import get\n",
    "import subprocess\n"
   ]
  },
  {
   "cell_type": "markdown",
   "id": "f850a577",
   "metadata": {},
   "source": [
    "## Getting parcellations \n",
    "\n",
    "The atlas namings correspond to the original FSL’s acronyms for them \n",
    "\n",
    "* HOCPAL=Harvard-Oxford Cortical Probabilistic Atlas Lateralized \n",
    "- 48 regions for both sides total of 96\n",
    "* HOSPA=Harvard-Oxford Subcortical Probabilistic Atlas\n",
    "- 21 regions\n"
   ]
  },
  {
   "cell_type": "markdown",
   "id": "e81d4a35",
   "metadata": {},
   "source": [
    "## Sample mask into functional space\n",
    "I used fslmeants to get the timeseries per parcel (cortical and subcortical) the masks were first sampled into subject space from 1mm to 3mm."
   ]
  },
  {
   "cell_type": "code",
   "execution_count": 3,
   "id": "03c87a7c",
   "metadata": {},
   "outputs": [],
   "source": [
    "datapath = '/projects/niblab/experiments/bromocriptine/data/fmriprep/'\n",
    "altaspath = '/projects/niblab/parcellations/Harvard_Oxford'\n",
    "outpath = '/projects/niblab/data/BRO/timeseries'"
   ]
  },
  {
   "cell_type": "markdown",
   "id": "428de2e1",
   "metadata": {},
   "source": [
    "## Making a dictonary with the labels for the ROIS"
   ]
  },
  {
   "cell_type": "code",
   "execution_count": 21,
   "id": "10fd3083",
   "metadata": {},
   "outputs": [],
   "source": [
    "cort_labels = pd.read_csv(os.path.join(outpath,'atlas.csv'), header = None)"
   ]
  },
  {
   "cell_type": "code",
   "execution_count": 93,
   "id": "d92a16f3",
   "metadata": {
    "scrolled": true
   },
   "outputs": [],
   "source": [
    "cort_dict = {}\n",
    "\n",
    "for index, row in cort_labels.iterrows():\n",
    "    ROW = row[0].split(' ')\n",
    "    name1 = ROW[5]\n",
    "    name2 = ROW[6]\n",
    "    if '%s_%s'%(name1, name2) in cort_dict.values():\n",
    "        cort_dict.update({int(ROW[1].split('=')[-1]):'%s_%s_%s'%(name1, name2, index)})\n",
    "    else:\n",
    "        cort_dict.update({int(ROW[1].split('=')[-1]):'%s_%s'%(name1, name2)})"
   ]
  },
  {
   "cell_type": "code",
   "execution_count": 17,
   "id": "4e2b2b1d",
   "metadata": {},
   "outputs": [],
   "source": [
    "subcort_labels = pd.read_csv(os.path.join(outpath,'atlas_sub.csv'), header = None, delimiter = ' ')"
   ]
  },
  {
   "cell_type": "code",
   "execution_count": 68,
   "id": "c72e80bd",
   "metadata": {},
   "outputs": [],
   "source": [
    "subcort_dict = {}\n",
    "for index, row in subcort_labels.iterrows():\n",
    "    ROW = row[0].split(' ')\n",
    "    name1 = ROW[15]\n",
    "    name2 = ROW[16]\n",
    "    name3 = ROW[17]\n",
    "    subcort_dict.update({int(ROW[3]):'%s_%s_%s'%(name1, name2, name3)})"
   ]
  },
  {
   "cell_type": "code",
   "execution_count": 62,
   "id": "2cee4bdf",
   "metadata": {},
   "outputs": [],
   "source": [
    "import pdb"
   ]
  },
  {
   "cell_type": "code",
   "execution_count": 94,
   "id": "e2d155ca",
   "metadata": {
    "scrolled": true
   },
   "outputs": [
    {
     "name": "stdout",
     "output_type": "stream",
     "text": [
      "sub-007 ses-1 run-1\n",
      "sub-008 ses-1 run-1\n",
      "sub-009 ses-1 run-1\n",
      "sub-020 ses-1 run-1\n",
      "sub-011 ses-1 run-1\n",
      "sub-004 ses-1 run-1\n",
      "sub-003 ses-1 run-1\n",
      "sub-012 ses-1 run-1\n",
      "sub-010 ses-1 run-1\n"
     ]
    },
    {
     "name": "stderr",
     "output_type": "stream",
     "text": [
      "/home/gshearre/miniconda3/lib/python3.7/site-packages/pandas/util/_decorators.py:311: ParserWarning: Falling back to the 'python' engine because the 'c' engine does not support regex separators (separators > 1 char and different from '\\s+' are interpreted as regex); you can avoid this warning by specifying engine='python'.\n",
      "  return func(*args, **kwargs)\n"
     ]
    },
    {
     "name": "stdout",
     "output_type": "stream",
     "text": [
      "sub-044 ses-1 run-1\n",
      "sub-022 ses-1 run-1\n",
      "sub-052 ses-1 run-1\n",
      "sub-016 ses-1 run-1\n",
      "sub-013 ses-1 run-1\n",
      "sub-026 ses-1 run-1\n",
      "sub-035 ses-1 run-1\n",
      "sub-039 ses-1 run-1\n",
      "sub-025 ses-1 run-1\n",
      "sub-017 ses-1 run-1\n",
      "sub-023 ses-1 run-1\n",
      "sub-029 ses-1 run-1\n",
      "sub-030 ses-1 run-1\n",
      "sub-038 ses-1 run-1\n",
      "sub-046 ses-1 run-1\n",
      "sub-036 ses-1 run-1\n",
      "sub-033 ses-1 run-1\n",
      "sub-040 ses-1 run-1\n",
      "sub-047 ses-1 run-1\n",
      "sub-028 ses-1 run-1\n",
      "sub-019 ses-1 run-1\n",
      "sub-053 ses-1 run-1\n",
      "sub-045 ses-1 run-1\n",
      "sub-043 ses-1 run-1\n",
      "sub-051 ses-1 run-1\n",
      "sub-032 ses-1 run-1\n",
      "sub-041 ses-1 run-1\n",
      "sub-038 ses-1 run-2\n",
      "sub-032 ses-1 run-2\n",
      "sub-003 ses-1 run-2\n",
      "sub-040 ses-1 run-2\n",
      "sub-036 ses-1 run-2\n",
      "sub-046 ses-1 run-2\n",
      "sub-043 ses-1 run-2\n",
      "sub-009 ses-1 run-2\n",
      "sub-007 ses-1 run-2\n",
      "sub-035 ses-1 run-2\n",
      "sub-033 ses-1 run-2\n",
      "sub-053 ses-1 run-2\n",
      "sub-041 ses-1 run-2\n",
      "sub-004 ses-1 run-2\n",
      "sub-010 ses-1 run-2\n",
      "sub-044 ses-1 run-2\n",
      "sub-019 ses-1 run-2\n",
      "sub-039 ses-1 run-2\n",
      "sub-022 ses-1 run-2\n",
      "sub-047 ses-1 run-2\n",
      "sub-023 ses-1 run-2\n",
      "sub-012 ses-1 run-2\n",
      "sub-045 ses-1 run-2\n",
      "sub-051 ses-1 run-2\n",
      "sub-017 ses-1 run-2\n",
      "sub-025 ses-1 run-2\n",
      "sub-013 ses-1 run-2\n",
      "sub-008 ses-1 run-2\n",
      "sub-026 ses-1 run-2\n",
      "sub-029 ses-1 run-2\n",
      "sub-028 ses-1 run-2\n",
      "sub-011 ses-1 run-2\n",
      "sub-016 ses-1 run-2\n",
      "sub-030 ses-1 run-2\n",
      "sub-052 ses-1 run-2\n",
      "sub-001 ses-2 run-1\n",
      "sub-032 ses-2 run-1\n",
      "sub-039 ses-2 run-1\n",
      "sub-007 ses-2 run-1\n",
      "sub-038 ses-2 run-1\n",
      "sub-053 ses-2 run-1\n",
      "sub-033 ses-2 run-1\n",
      "sub-041 ses-2 run-1\n",
      "sub-043 ses-2 run-1\n",
      "sub-040 ses-2 run-1\n",
      "sub-045 ses-2 run-1\n",
      "sub-004 ses-2 run-1\n",
      "sub-009 ses-2 run-1\n",
      "sub-044 ses-2 run-1\n",
      "sub-002 ses-2 run-1\n",
      "sub-047 ses-2 run-1\n",
      "sub-052 ses-2 run-1\n",
      "sub-012 ses-2 run-1\n",
      "sub-036 ses-2 run-1\n",
      "sub-030 ses-2 run-1\n",
      "sub-051 ses-2 run-1\n",
      "sub-046 ses-2 run-1\n",
      "sub-019 ses-2 run-1\n",
      "sub-016 ses-2 run-1\n",
      "sub-027 ses-2 run-1\n",
      "sub-017 ses-2 run-1\n",
      "sub-025 ses-2 run-1\n",
      "sub-028 ses-2 run-1\n",
      "sub-010 ses-2 run-1\n",
      "sub-003 ses-2 run-1\n",
      "sub-022 ses-2 run-1\n",
      "sub-013 ses-2 run-1\n",
      "sub-026 ses-2 run-1\n",
      "sub-011 ses-2 run-1\n",
      "sub-023 ses-2 run-1\n",
      "sub-029 ses-2 run-1\n",
      "sub-039 ses-2 run-2\n",
      "sub-041 ses-2 run-2\n",
      "sub-040 ses-2 run-2\n",
      "sub-019 ses-2 run-2\n",
      "sub-046 ses-2 run-2\n",
      "sub-011 ses-2 run-2\n",
      "sub-053 ses-2 run-2\n",
      "sub-033 ses-2 run-2\n",
      "sub-036 ses-2 run-2\n",
      "sub-044 ses-2 run-2\n",
      "sub-047 ses-2 run-2\n",
      "sub-032 ses-2 run-2\n",
      "sub-009 ses-2 run-2\n",
      "sub-038 ses-2 run-2\n",
      "sub-043 ses-2 run-2\n",
      "sub-045 ses-2 run-2\n",
      "sub-002 ses-2 run-2\n",
      "sub-016 ses-2 run-2\n",
      "sub-004 ses-2 run-2\n",
      "sub-052 ses-2 run-2\n",
      "sub-013 ses-2 run-2\n",
      "sub-027 ses-2 run-2\n",
      "sub-017 ses-2 run-2\n",
      "sub-007 ses-2 run-2\n",
      "sub-030 ses-2 run-2\n",
      "sub-010 ses-2 run-2\n",
      "sub-029 ses-2 run-2\n",
      "sub-051 ses-2 run-2\n",
      "sub-026 ses-2 run-2\n",
      "sub-001 ses-2 run-2\n",
      "sub-025 ses-2 run-2\n",
      "sub-022 ses-2 run-2\n",
      "sub-003 ses-2 run-2\n",
      "sub-028 ses-2 run-2\n",
      "sub-012 ses-2 run-2\n",
      "sub-023 ses-2 run-2\n"
     ]
    }
   ],
   "source": [
    "data_dict = {}\n",
    "for x in glob.glob(os.path.join(outpath,'cortical_masks','*.txt')):\n",
    "    sub = x.split('/')[-1].split('_')[0]\n",
    "    ses = x.split('/')[-1].split('_')[1]\n",
    "    run = x.split('/')[-1].split('_')[2].split('.')[0]\n",
    "    print('%s %s %s'%(sub, ses, run))\n",
    "    df = pd.read_csv(x, header = None, delimiter = '  ')\n",
    "    df.rename(columns=cort_dict, inplace = True)\n",
    "    df2 = pd.read_csv(os.path.join(outpath,'subcortical_masks','%s_%s_%s.txt'%(sub,ses,run)), header = None, delimiter = '  ')\n",
    "    df2.rename(columns=subcort_dict, inplace = True)\n",
    "    data_dict.update({'%s_%s_%s'%(sub,ses,run):df.join(df2)})\n",
    "    \n",
    "    \n",
    "    "
   ]
  },
  {
   "cell_type": "code",
   "execution_count": 95,
   "id": "4b581136",
   "metadata": {},
   "outputs": [
    {
     "data": {
      "text/plain": [
       "['Frontal_Pole/label',\n",
       " 'Insular_Cortex/label',\n",
       " 'Superior_Frontal',\n",
       " 'Middle_Frontal',\n",
       " 'Inferior_Frontal',\n",
       " 'Inferior_Frontal_5',\n",
       " 'Precentral_Gyrus/label',\n",
       " 'Temporal_Pole/label',\n",
       " 'Superior_Temporal',\n",
       " 'Superior_Temporal_9',\n",
       " 'Middle_Temporal',\n",
       " 'Middle_Temporal_11',\n",
       " 'Middle_Temporal_12',\n",
       " 'Inferior_Temporal',\n",
       " 'Inferior_Temporal_14',\n",
       " 'Inferior_Temporal_15',\n",
       " 'Postcentral_Gyrus/label',\n",
       " 'Superior_Parietal',\n",
       " 'Supramarginal_Gyrus,',\n",
       " 'Supramarginal_Gyrus,_19',\n",
       " 'Angular_Gyrus/label',\n",
       " 'Lateral_Occipital',\n",
       " 'Lateral_Occipital_22',\n",
       " 'Intracalcarine_Cortex/label',\n",
       " 'Frontal_Medial',\n",
       " 'Juxtapositional_Lobule',\n",
       " 'Subcallosal_Cortex/label',\n",
       " 'Paracingulate_Gyrus/label',\n",
       " 'Cingulate_Gyrus,',\n",
       " 'Cingulate_Gyrus,_29',\n",
       " 'Precuneous_Cortex/label',\n",
       " 'Cuneal_Cortex/label',\n",
       " 'Frontal_Orbital',\n",
       " 'Parahippocampal_Gyrus,',\n",
       " 'Parahippocampal_Gyrus,_34',\n",
       " 'Lingual_Gyrus/label',\n",
       " 'Temporal_Fusiform',\n",
       " 'Temporal_Fusiform_37',\n",
       " 'Temporal_Occipital',\n",
       " 'Occipital_Fusiform',\n",
       " 'Frontal_Operculum',\n",
       " 'Central_Opercular',\n",
       " 'Parietal_Operculum',\n",
       " 'Planum_Polare/label',\n",
       " \"Heschl's_Gyrus\",\n",
       " 'Planum_Temporale/label',\n",
       " 'Supracalcarine_Cortex/label',\n",
       " 'Occipital_Pole/label',\n",
       " 48,\n",
       " 49,\n",
       " 50,\n",
       " 51,\n",
       " 52,\n",
       " 53,\n",
       " 54,\n",
       " 55,\n",
       " 56,\n",
       " 57,\n",
       " 58,\n",
       " 59,\n",
       " 60,\n",
       " 61,\n",
       " 62,\n",
       " 63,\n",
       " 64,\n",
       " 65,\n",
       " 66,\n",
       " 67,\n",
       " 68,\n",
       " 69,\n",
       " 70,\n",
       " 71,\n",
       " 72,\n",
       " 73,\n",
       " 74,\n",
       " 75,\n",
       " 76,\n",
       " 77,\n",
       " 78,\n",
       " 79,\n",
       " 80,\n",
       " 81,\n",
       " 82,\n",
       " 83,\n",
       " 84,\n",
       " 85,\n",
       " 86,\n",
       " 87,\n",
       " 88,\n",
       " 89,\n",
       " 90,\n",
       " 91,\n",
       " 92,\n",
       " 93,\n",
       " 94,\n",
       " 95,\n",
       " 'Left_Cerebral_White',\n",
       " 'Left_Cerebral_Cortex',\n",
       " 'Left_Lateral_Ventricle',\n",
       " 'Left_Thalamus_/label',\n",
       " 'Left_Caudate_/label',\n",
       " 'Left_Putamen_/label',\n",
       " 'Left_Pallidum_/label',\n",
       " 'Brain-Stem_/label_',\n",
       " 'Left_Hippocampus_/label',\n",
       " 'Left_Amygdala_/label',\n",
       " 'Left_Accumbens_/label',\n",
       " 'Right_Cerebral_White',\n",
       " 'Right_Cerebral_Cortex',\n",
       " 'Right_Lateral_Ventricle',\n",
       " 'Right_Thalamus_/label',\n",
       " 'Right_Caudate_/label',\n",
       " 'Right_Putamen_/label',\n",
       " 'Right_Pallidum_/label',\n",
       " 'Right_Hippocampus_/label',\n",
       " 'Right_Amygdala_/label']"
      ]
     },
     "execution_count": 95,
     "metadata": {},
     "output_type": "execute_result"
    }
   ],
   "source": [
    "list(data_dict['sub-007_ses-1_run-1'].columns)"
   ]
  },
  {
   "cell_type": "code",
   "execution_count": 78,
   "id": "be03e9aa",
   "metadata": {},
   "outputs": [],
   "source": [
    "ROIS = list(data_dict['sub-023_ses-2_run-2'].columns)"
   ]
  },
  {
   "cell_type": "code",
   "execution_count": 110,
   "id": "65eee91d",
   "metadata": {},
   "outputs": [
    {
     "data": {
      "text/plain": [
       "'Inferior_Frontal'"
      ]
     },
     "execution_count": 110,
     "metadata": {},
     "output_type": "execute_result"
    }
   ],
   "source": [
    "ROIS[5]"
   ]
  },
  {
   "cell_type": "code",
   "execution_count": 100,
   "id": "9c41e4b4",
   "metadata": {},
   "outputs": [],
   "source": [
    "def get_subject_roi(data_dict, roi_num):\n",
    "    sub_rois = {}\n",
    "    for sub, value in data_dict.items():\n",
    "        sub_rois[sub] = value[ROIS[roi_num]]\n",
    "    return pd.DataFrame(sub_rois)\n"
   ]
  },
  {
   "cell_type": "code",
   "execution_count": 102,
   "id": "79e333f1",
   "metadata": {},
   "outputs": [],
   "source": [
    "test = get_subject_roi(data_dict, 5)"
   ]
  },
  {
   "cell_type": "code",
   "execution_count": 104,
   "id": "75a46abe",
   "metadata": {},
   "outputs": [],
   "source": [
    "test = test.dropna(axis=1)"
   ]
  },
  {
   "cell_type": "code",
   "execution_count": 106,
   "id": "3bf39dd4",
   "metadata": {},
   "outputs": [],
   "source": [
    "stats_circle = isc(test, method='circle_shift', n_bootstraps=5000, return_bootstraps=True)\n"
   ]
  },
  {
   "cell_type": "code",
   "execution_count": 107,
   "id": "e3ab1928",
   "metadata": {},
   "outputs": [
    {
     "name": "stdout",
     "output_type": "stream",
     "text": [
      "ISC: 0.069, p = 0.0002\n"
     ]
    }
   ],
   "source": [
    "print(f\"ISC: {stats_circle['isc']:.02}, p = {stats_circle['p']:.03}\")"
   ]
  },
  {
   "cell_type": "code",
   "execution_count": 109,
   "id": "0a04ad62",
   "metadata": {},
   "outputs": [
    {
     "name": "stderr",
     "output_type": "stream",
     "text": [
      "/home/gshearre/miniconda3/lib/python3.7/site-packages/ipykernel_launcher.py:2: UserWarning: \n",
      "\n",
      "`distplot` is a deprecated function and will be removed in seaborn v0.14.0.\n",
      "\n",
      "Please adapt your code to use either `displot` (a figure-level function with\n",
      "similar flexibility) or `histplot` (an axes-level function for histograms).\n",
      "\n",
      "For a guide to updating your code to use the new functions, please see\n",
      "https://gist.github.com/mwaskom/de44147ed2974457ad6372750bbe5751\n",
      "\n",
      "  \n",
      "/home/gshearre/miniconda3/lib/python3.7/site-packages/ipykernel_launcher.py:4: UserWarning: \n",
      "\n",
      "`distplot` is a deprecated function and will be removed in seaborn v0.14.0.\n",
      "\n",
      "Please adapt your code to use either `displot` (a figure-level function with\n",
      "similar flexibility) or `histplot` (an axes-level function for histograms).\n",
      "\n",
      "For a guide to updating your code to use the new functions, please see\n",
      "https://gist.github.com/mwaskom/de44147ed2974457ad6372750bbe5751\n",
      "\n",
      "  after removing the cwd from sys.path.\n"
     ]
    },
    {
     "data": {
      "text/plain": [
       "<matplotlib.lines.Line2D at 0x2ac65b93a290>"
      ]
     },
     "execution_count": 109,
     "metadata": {},
     "output_type": "execute_result"
    },
    {
     "data": {
      "image/png": "[encoded data removed]",
      "text/plain": [
       "<Figure size 864x432 with 1 Axes>"
      ]
     },
     "metadata": {
      "needs_background": "light"
     },
     "output_type": "display_data"
    }
   ],
   "source": [
    "plt.figure(figsize=(12,6))\n",
    "sns.distplot(stats_circle['null_distribution'] - stats_circle['isc'], kde=True, label='Bootstrap')\n",
    "\n",
    "sns.distplot(stats_circle['null_distribution'], kde=True, label='Bootstrap')\n",
    "plt.ylabel('Frequency', fontsize=18)\n",
    "plt.xlabel('ISC Values (correlation)', fontsize=18)\n",
    "plt.title('ISC Null Distribution', fontsize=20)\n",
    "plt.legend(['Observed ISC','Circle Shift Null'], fontsize=18)\n",
    "\n",
    "\n",
    "plt.axvline(stats_circle['ci'][0], linestyle='--', color='orange')\n",
    "plt.axvline(stats_circle['ci'][1], linestyle='--', color='orange')\n",
    "\n"
   ]
  },
  {
   "cell_type": "markdown",
   "id": "107b3602",
   "metadata": {},
   "source": [
    "# Next steps\n",
    "* Merge the subcortical and cortical datasets (make sure it is clear which is cortical and which is subcortical)\n",
    "* Procede with the ISC analysis"
   ]
  },
  {
   "cell_type": "code",
   "execution_count": null,
   "id": "368fec33",
   "metadata": {},
   "outputs": [],
   "source": []
  }
 ],
 "metadata": {
  "kernelspec": {
   "display_name": "Python 3 (ipykernel)",
   "language": "python",
   "name": "python3"
  },
  "language_info": {
   "codemirror_mode": {
    "name": "ipython",
    "version": 3
   },
   "file_extension": ".py",
   "mimetype": "text/x-python",
   "name": "python",
   "nbconvert_exporter": "python",
   "pygments_lexer": "ipython3",
   "version": "3.7.7"
  }
 },
 "nbformat": 4,
 "nbformat_minor": 5
}
