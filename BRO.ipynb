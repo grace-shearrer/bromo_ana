{
 "cells": [
  {
   "cell_type": "code",
   "execution_count": 1,
   "id": "2fb3de6f",
   "metadata": {},
   "outputs": [],
   "source": [
    "import pandas as pd\n",
    "import os\n",
    "import numpy as np\n",
    "import scipy.stats as ss"
   ]
  },
  {
   "cell_type": "code",
   "execution_count": 2,
   "id": "589de0b2",
   "metadata": {},
   "outputs": [],
   "source": [
    "column_names = ['Drug','TaqXdrug']"
   ]
  },
  {
   "cell_type": "code",
   "execution_count": 3,
   "id": "bd36e25c",
   "metadata": {},
   "outputs": [],
   "source": [
    "complete_subs = pd.read_csv('/Users/gracer/Desktop/complete_subs.csv', header = None)"
   ]
  },
  {
   "cell_type": "code",
   "execution_count": 4,
   "id": "5351a1e4",
   "metadata": {},
   "outputs": [],
   "source": [
    "behav = pd.read_csv('/Users/gracer/OneDrive - University of Wyoming/0. Lab/M2AENAD Lab - Documents/RESEARCH/BRO/bro_behav.csv')"
   ]
  },
  {
   "cell_type": "markdown",
   "id": "98159eed",
   "metadata": {},
   "source": [
    "Taq1A (A1/A1 and A1/A2) == 1\n",
    "A2/A2 == -1"
   ]
  },
  {
   "cell_type": "code",
   "execution_count": 5,
   "id": "d76a0cb9",
   "metadata": {},
   "outputs": [],
   "source": [
    "taqs = behav['taqstatus'].replace({'A2/A2': -1, 'A1/A2': 1, 'A1/A1': 1})"
   ]
  },
  {
   "cell_type": "code",
   "execution_count": 6,
   "id": "5c646c45",
   "metadata": {
    "scrolled": true
   },
   "outputs": [],
   "source": [
    "taqs = pd.DataFrame(taqs)\n",
    "taqs.set_index(behav['participantID'], inplace = True)"
   ]
  },
  {
   "cell_type": "code",
   "execution_count": 7,
   "id": "73f54026",
   "metadata": {},
   "outputs": [],
   "source": [
    "subs = list(complete_subs[0])"
   ]
  },
  {
   "cell_type": "code",
   "execution_count": 8,
   "id": "2c2ea7b1",
   "metadata": {},
   "outputs": [],
   "source": [
    "CN = column_names+subs"
   ]
  },
  {
   "cell_type": "code",
   "execution_count": 10,
   "id": "f50ac1f7",
   "metadata": {},
   "outputs": [],
   "source": [
    "drug = [1,-1]*44"
   ]
  },
  {
   "cell_type": "code",
   "execution_count": 11,
   "id": "2a1c5e19",
   "metadata": {},
   "outputs": [],
   "source": [
    "MAT = pd.DataFrame(0,index = sub_indx, columns = CN)"
   ]
  },
  {
   "cell_type": "code",
   "execution_count": 12,
   "id": "3e598c61",
   "metadata": {},
   "outputs": [],
   "source": [
    "MAT['Drug'] = drug"
   ]
  },
  {
   "cell_type": "markdown",
   "id": "4ecb8112",
   "metadata": {},
   "source": [
    "## Next step\n",
    "- Create the drug column with 1 = BRO, -1 = placebo\n",
    "- Every subject's Taq status A1 = 1 A2 = -1\n",
    "- Get taq by drug column, multiple the Drug column by a Taq column (or lists)\n",
    "## Homework\n",
    "Figure out how to put 1s in each subject's column to identify their data (see BRO analysis excel sheet for an example)"
   ]
  },
  {
   "cell_type": "code",
   "execution_count": null,
   "id": "5cf41106",
   "metadata": {},
   "outputs": [],
   "source": []
  }
 ],
 "metadata": {
  "kernelspec": {
   "display_name": "Python 3 (ipykernel)",
   "language": "python",
   "name": "python3"
  },
  "language_info": {
   "codemirror_mode": {
    "name": "ipython",
    "version": 3
   },
   "file_extension": ".py",
   "mimetype": "text/x-python",
   "name": "python",
   "nbconvert_exporter": "python",
   "pygments_lexer": "ipython3",
   "version": "3.8.8"
  }
 },
 "nbformat": 4,
 "nbformat_minor": 5
}
